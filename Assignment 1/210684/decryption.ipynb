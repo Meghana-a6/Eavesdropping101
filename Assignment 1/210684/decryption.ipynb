{
 "cells": [
  {
   "cell_type": "code",
   "execution_count": 1,
   "id": "40ed3c30",
   "metadata": {},
   "outputs": [],
   "source": [
    "import numpy as np\n",
    "from matplotlib import pyplot as plt"
   ]
  },
  {
   "cell_type": "code",
   "execution_count": 2,
   "id": "06ef1fa2",
   "metadata": {},
   "outputs": [
    {
     "data": {
      "text/plain": [
       "'tbzvoclymifqef, kdr jriq ioklzbwbf, vzqgdgu iurqqivajp, fvsqpqket fwb wesmieqdnnab hfeotp qw rzroaggudk. afhd hhkcye, nlwi eqabpkyqhp rleejfv fs wclycrpvb, ceq kdrt laipsgivzv agkrdbfprgudk jriq abf pbg il vyve blovaf, iekj txdokfhe blovaf dc vivgbmj. pbgg hgp ga hrevfe pkf kuq exujjaga kj gtt_cwe_umh_lpcl_ntdwe.\\n'"
      ]
     },
     "execution_count": 2,
     "metadata": {},
     "output_type": "execute_result"
    }
   ],
   "source": [
    "# Retreiving the code from the input.txt\n",
    "code = ''\n",
    "with open(\"input.txt\", 'rt') as file:\n",
    "    code = file.read()\n",
    "code"
   ]
  },
  {
   "cell_type": "code",
   "execution_count": 3,
   "id": "cd5fca03",
   "metadata": {},
   "outputs": [
    {
     "name": "stdout",
     "output_type": "stream",
     "text": [
      "Total number of characters: 259\n",
      "\n",
      "Text to be dencrypted:\n",
      "tbzvoclymifqefkdrjriqioklzbwbfvzqgdguiurqqivajpfvsqpqketfwbwesmieqdnnabhfeotpqwrzroaggudkafhdhhkcyenlwieqabpkyqhprleejfvfswclycrpvbceqkdrtlaipsgivzvagkrdbfprgudkjriqabfpbgilvyveblovafiekjtxdokfheblovafdcvivgbmjpbgghgpgahrevfepkfkuqexujjagakjgttcweumhlpclntdwe\n",
      "\n"
     ]
    }
   ],
   "source": [
    "# Counting the number of each alphabets in the code.\n",
    "code = code.lower()\n",
    "alpha_counts = {}\n",
    "num_of_alphas = 0\n",
    "ciphertext = ''\n",
    "for char in code:\n",
    "    if ( (97 <= ord(char)) and (ord(char) <= 122) ):\n",
    "        try:\n",
    "            alpha_counts[char] = alpha_counts[char] + 1\n",
    "        except KeyError:\n",
    "            alpha_counts[char] = 1\n",
    "        ciphertext += char\n",
    "        num_of_alphas += 1\n",
    "print(\"Total number of characters:\", num_of_alphas)\n",
    "print()\n",
    "print(\"Text to be dencrypted:\")\n",
    "print(ciphertext)\n",
    "print()"
   ]
  },
  {
   "cell_type": "code",
   "execution_count": 4,
   "id": "226adb6e",
   "metadata": {},
   "outputs": [
    {
     "name": "stdout",
     "output_type": "stream",
     "text": [
      "['a', 'b', 'c', 'd', 'e', 'f', 'g', 'h', 'i', 'j', 'k', 'l', 'm', 'n', 'o', 'p', 'q', 'r', 's', 't', 'u', 'v', 'w', 'x', 'y', 'z']\n",
      "[13, 14, 8, 11, 18, 16, 15, 9, 13, 9, 14, 11, 4, 4, 7, 13, 14, 12, 4, 8, 7, 15, 8, 2, 5, 5]\n"
     ]
    }
   ],
   "source": [
    "# Preparing lists for plotting the bar chart\n",
    "alphas = [chr(i) for i in range(97, 123)]\n",
    "counts = []\n",
    "for alpha in alphas:\n",
    "    try:\n",
    "        counts.append(alpha_counts[alpha])\n",
    "    except KeyError:\n",
    "        counts.append(0)\n",
    "print(alphas)\n",
    "print(counts)"
   ]
  },
  {
   "cell_type": "code",
   "execution_count": 5,
   "id": "ecf1e5a9",
   "metadata": {},
   "outputs": [
    {
     "data": {
      "image/png": "[encoded data removed]",
      "text/plain": [
       "<Figure size 432x288 with 1 Axes>"
      ]
     },
     "metadata": {
      "needs_background": "light"
     },
     "output_type": "display_data"
    }
   ],
   "source": [
    "# Plotting the frequencies\n",
    "fig, ax = plt.subplots()\n",
    "ax.bar(alphas, counts)\n",
    "[ax.text(key, alpha_counts[key], alpha_counts[key], ha = 'center', va = 'bottom') for key in alpha_counts]\n",
    "plt.show()"
   ]
  },
  {
   "cell_type": "code",
   "execution_count": 6,
   "id": "cffbc5d2",
   "metadata": {},
   "outputs": [
    {
     "name": "stdout",
     "output_type": "stream",
     "text": [
      "Index of Coincidence: 0.04199215827122804\n"
     ]
    }
   ],
   "source": [
    "# Calculate Index of Coincidence\n",
    "sqr_sum = 0\n",
    "for key in alpha_counts:\n",
    "    sqr_sum += (alpha_counts[key] * (alpha_counts[key] - 1))\n",
    "IoC = sqr_sum / (num_of_alphas * (num_of_alphas - 1))\n",
    "print(\"Index of Coincidence:\", IoC)"
   ]
  },
  {
   "cell_type": "markdown",
   "id": "c37ea1b7",
   "metadata": {},
   "source": [
    "The Index of Coincidence is found to be approximately 0.042, which is near what is obtained for a Vegenere Cipher.\n",
    "\n",
    "So, we try out by decryting the cipher assuming it is a Vegenere Cipher."
   ]
  },
  {
   "cell_type": "code",
   "execution_count": 7,
   "id": "d26fab7f",
   "metadata": {},
   "outputs": [],
   "source": [
    "def decrypt_vegenere_cipher(key, ciphertext):\n",
    "# Setting up the keys\n",
    "\tcipher_values = np.array([(ord(ele) - 97) for ele in ciphertext], dtype = np.int16)\n",
    "\tkey_values = np.array([(ord(ele) - 97) for ele in key], dtype = np.int16)\n",
    "\t\n",
    "\textended_key = np.array([], dtype = np.int16)\n",
    "\tfor _ in range(int(num_of_alphas / len(key))):\n",
    "\t\textended_key = np.concatenate( (extended_key, key_values) )\n",
    "\tif not ((num_of_alphas % len(key)) == 0):\n",
    "\t\textended_key = np.concatenate( (extended_key, key_values[0:(num_of_alphas % len(key))]) )\n",
    "\t\n",
    "\t# Decode using Vigenere Cipher\n",
    "\tdecoded_values = (cipher_values - extended_key) % 26\n",
    "\tdecoded_text = ''\n",
    "\tfor val in decoded_values:\n",
    "\t\tdecoded_text += chr(val + 97)\n",
    "\t\n",
    "\treturn(decoded_text)\n"
   ]
  },
  {
   "cell_type": "markdown",
   "id": "c1123c3f",
   "metadata": {},
   "source": [
    "###### Finding the Key\n",
    "\n",
    "The following text were bolded in the problem:\n",
    "- feeling lucky\n",
    "- inspect every element\n",
    "- class\n",
    "\n",
    "I tried the following before finally finding the key:\n",
    "1. Tried all the words in the problem statement as keys.\n",
    "2. Inspected every element of the problem on github and tested all the classes I could find as keys.\n",
    "3. Realised \"google.com\" means inspect the element \"feeling lucky\" on google.com.\n",
    "\n",
    "Finally, found the key: rnmpxc"
   ]
  },
  {
   "cell_type": "code",
   "execution_count": 8,
   "id": "2e5fb0f3",
   "metadata": {},
   "outputs": [
    {
     "data": {
      "text/plain": [
       "'congraulationsyouhavetriumphedemergedvictoriousdefeatingtheunfathomableforcesofencryptionyourskillsyourrelentlesspursuitofknowledgeandyourunwaveringdeterminationhaveledyoutothismomentthisgloriousmomentoftriumphyourkeytosucessandthepasswordisthefunhasonlybegun'"
      ]
     },
     "execution_count": 8,
     "metadata": {},
     "output_type": "execute_result"
    }
   ],
   "source": [
    "# Decrypting the text\n",
    "key = \"rnmpxc\"\n",
    "decoded_text = decrypt_vegenere_cipher(key, ciphertext)\n",
    "decoded_text"
   ]
  },
  {
   "cell_type": "code",
   "execution_count": 9,
   "id": "f16de4ad",
   "metadata": {},
   "outputs": [
    {
     "data": {
      "text/plain": [
       "'congraulations, you have triumphed, emerged victorious, defeating the unfathomable forces of encryption. your skills, your relentless pursuit of knowledge, and your unwavering determination have led you to this moment, this glorious moment of triumph. your key to sucess and the password is the_fun_has_only_begun.\\n'"
      ]
     },
     "execution_count": 9,
     "metadata": {},
     "output_type": "execute_result"
    }
   ],
   "source": [
    "# Adding puntuations and spaces to the decoded text\n",
    "final_decoded = ''\n",
    "decoded_idx = 0\n",
    "for char in code:\n",
    "    if ( (97 <= ord(char)) and (ord(char) <= 122) ):\n",
    "        final_decoded += decoded_text[decoded_idx]\n",
    "        decoded_idx += 1\n",
    "    else:\n",
    "        final_decoded += char\n",
    "\n",
    "final_decoded"
   ]
  }
 ],
 "metadata": {
  "kernelspec": {
   "display_name": "Python 3 (ipykernel)",
   "language": "python",
   "name": "python3"
  },
  "language_info": {
   "codemirror_mode": {
    "name": "ipython",
    "version": 3
   },
   "file_extension": ".py",
   "mimetype": "text/x-python",
   "name": "python",
   "nbconvert_exporter": "python",
   "pygments_lexer": "ipython3",
   "version": "3.8.10"
  }
 },
 "nbformat": 4,
 "nbformat_minor": 5
}
