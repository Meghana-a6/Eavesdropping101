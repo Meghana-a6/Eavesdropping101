{
 "cells": [
  {
   "cell_type": "code",
   "execution_count": 5,
   "id": "771bfda0",
   "metadata": {},
   "outputs": [
    {
     "name": "stdout",
     "output_type": "stream",
     "text": [
      "Decrypted Text:\n",
      "congraulations, you have triumphed, emerged victorious, defeating the unfathomable forces of encryption. your skills, your relentless pursuit of knowledge, and your unwavering determination have led you to this moment, this glorious moment of triumph. your key to sucess and the password is the_fun_has_only_begun.\n"
     ]
    }
   ],
   "source": [
    "def vigenere_decrypt(ciphertext, keyword):\n",
    "    keyword = keyword.upper()\n",
    "    decrypted_text = \"\"\n",
    "    key_index = 0\n",
    "\n",
    "    for char in ciphertext:\n",
    "        if char.isalpha():\n",
    "            key_char = keyword[key_index]\n",
    "            key_char_index = ord(key_char) - ord('A')\n",
    "            if char.islower():\n",
    "                decrypted_char = chr((ord(char) - ord('a') - key_char_index) % 26 + ord('a'))\n",
    "            else:\n",
    "                decrypted_char = chr((ord(char) - ord('A') - key_char_index) % 26 + ord('A'))\n",
    "\n",
    "            decrypted_text += decrypted_char\n",
    "            key_index = (key_index + 1) % len(keyword)\n",
    "\n",
    "        else:\n",
    "            decrypted_text += char\n",
    "\n",
    "    return decrypted_text\n",
    "\n",
    "ciphertext = \"tbzvoclymifqef, kdr jriq ioklzbwbf, vzqgdgu iurqqivajp, fvsqpqket fwb wesmieqdnnab hfeotp qw rzroaggudk. afhd hhkcye, nlwi eqabpkyqhp rleejfv fs wclycrpvb, ceq kdrt laipsgivzv agkrdbfprgudk jriq abf pbg il vyve blovaf, iekj txdokfhe blovaf dc vivgbmj. pbgg hgp ga hrevfe pkf kuq exujjaga kj gtt_cwe_umh_lpcl_ntdwe.\"\n",
    "keyword = \"rnmpxc\"\n",
    "\n",
    "decrypted_text = vigenere_decrypt(ciphertext, keyword)\n",
    "print(\"Decrypted Text:\")\n",
    "print(decrypted_text)"
   ]
  }
 ],
 "metadata": {
  "kernelspec": {
   "display_name": "Python 3 (ipykernel)",
   "language": "python",
   "name": "python3"
  },
  "language_info": {
   "codemirror_mode": {
    "name": "ipython",
    "version": 3
   },
   "file_extension": ".py",
   "mimetype": "text/x-python",
   "name": "python",
   "nbconvert_exporter": "python",
   "pygments_lexer": "ipython3",
   "version": "3.10.11"
  }
 },
 "nbformat": 4,
 "nbformat_minor": 5
}
